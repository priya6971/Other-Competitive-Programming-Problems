{
  "nbformat": 4,
  "nbformat_minor": 0,
  "metadata": {
    "colab": {
      "name": "53. Maximum Subarray.ipynb",
      "provenance": []
    },
    "kernelspec": {
      "name": "python3",
      "display_name": "Python 3"
    },
    "language_info": {
      "name": "python"
    }
  },
  "cells": [
    {
      "cell_type": "markdown",
      "metadata": {
        "id": "FE5SLiyphvov"
      },
      "source": [
        "Given an integer array nums, find the contiguous subarray (containing at least one number) which has the largest sum and return its sum.\n",
        "\n",
        " \n",
        "\n",
        "Example 1:\n",
        "\n",
        "Input: \n",
        "\n",
        "nums = [-2,1,-3,4,-1,2,1,-5,4]\n",
        "\n",
        "Output: 6\n",
        "\n",
        "Explanation: [4,-1,2,1] has the largest sum = 6."
      ]
    },
    {
      "cell_type": "code",
      "metadata": {
        "id": "OqeORYHghs6I"
      },
      "source": [
        "public int MaxSubArray(int[] nums) {\n",
        "        int max_sum=nums[0];\n",
        "        int curr=max_sum;\n",
        "        foreach(int num in nums){\n",
        "            curr= Math.Max(num, num+curr);\n",
        "            max_sum= Math.Max(max_sum, curr);\n",
        "        }\n",
        "        return max_sum;\n",
        "    }"
      ],
      "execution_count": null,
      "outputs": []
    }
  ]
}