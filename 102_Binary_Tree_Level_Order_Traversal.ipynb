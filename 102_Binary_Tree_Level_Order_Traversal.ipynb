{
  "nbformat": 4,
  "nbformat_minor": 0,
  "metadata": {
    "colab": {
      "name": "102. Binary Tree Level Order Traversal.ipynb",
      "provenance": []
    },
    "kernelspec": {
      "name": "python3",
      "display_name": "Python 3"
    },
    "language_info": {
      "name": "python"
    }
  },
  "cells": [
    {
      "cell_type": "markdown",
      "metadata": {
        "id": "JAFJ0vYHoOcG"
      },
      "source": [
        "**Problem Statement :**\n",
        "\n",
        "Given the root of a binary tree, return the level order traversal of its nodes values. (i.e., from left to right, level by level).\n",
        "\n",
        "Input: root = [3,9,20,null,null,15,7]\n",
        "\n",
        "Output: [[3],[9,20],[15,7]]"
      ]
    },
    {
      "cell_type": "code",
      "metadata": {
        "id": "vnOkTf5En2Zn"
      },
      "source": [
        "# Definition for a binary tree node.\n",
        "# class TreeNode:\n",
        "#     def __init__(self, val=0, left=None, right=None):\n",
        "#         self.val = val\n",
        "#         self.left = left\n",
        "#         self.right = right\n",
        "class Solution:\n",
        "    def levelOrder(self, root: TreeNode) -> List[List[int]]:\n",
        "        levels = []\n",
        "        if not root:\n",
        "            return levels\n",
        "        \n",
        "        queue = deque([root,])\n",
        "        level = 0\n",
        "        \n",
        "        while queue:\n",
        "            levels.append([])\n",
        "            level_len = len(queue)\n",
        "            \n",
        "            for i in range(level_len):\n",
        "                node = queue.popleft()\n",
        "                levels[level].append(node.val)\n",
        "                \n",
        "                if node.left:\n",
        "                    queue.append(node.left)\n",
        "                \n",
        "                if node.right:\n",
        "                    queue.append(node.right)\n",
        "                    \n",
        "            level += 1\n",
        "        \n",
        "        return levels"
      ],
      "execution_count": null,
      "outputs": []
    },
    {
      "cell_type": "markdown",
      "metadata": {
        "id": "KlIPxBtYoe5y"
      },
      "source": [
        "Time Complexity : O(n)\n",
        "\n",
        "Space Complexity : O(n)"
      ]
    }
  ]
}