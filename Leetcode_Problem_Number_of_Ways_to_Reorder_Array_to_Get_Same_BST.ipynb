{
  "nbformat": 4,
  "nbformat_minor": 0,
  "metadata": {
    "colab": {
      "name": "Leetcode Problem : Number of Ways to Reorder Array to Get Same BST.ipynb",
      "provenance": []
    },
    "kernelspec": {
      "name": "python3",
      "display_name": "Python 3"
    },
    "language_info": {
      "name": "python"
    }
  },
  "cells": [
    {
      "cell_type": "markdown",
      "metadata": {
        "id": "-918-wY7frAc"
      },
      "source": [
        "**Problem Statement**\n",
        "\n",
        "Given an array nums that represents a permutation of integers from 1 to n. We are going to construct a binary search tree (BST) by inserting the elements of nums in order into an initially empty BST. Find the number of different ways to reorder nums so that the constructed BST is identical to that formed from the original array nums.\n",
        "\n",
        "For example, given nums = [2,1,3], we will have 2 as the root, 1 as a left child, and 3 as a right child. The array [2,3,1] also yields the same BST but [3,2,1] yields a different BST.\n",
        "\n",
        "Return the number of ways to reorder nums such that the BST formed is identical to the original BST formed from nums.\n",
        "\n",
        "Since the answer may be very large, return it modulo 10^9 + 7"
      ]
    },
    {
      "cell_type": "code",
      "metadata": {
        "id": "4QrHYJbTfb2e"
      },
      "source": [
        "## Time Complexity : O(n logn) -> O(n^2)\n",
        "## Space Complexity : O(n logn) -> O(n^2)\n",
        "class Solution:\n",
        "    def numOfWays(self, nums: List[int]) -> int:\n",
        "        def ways(nums):\n",
        "            if len(nums) <= 2: return 1\n",
        "            leftSubtree = []\n",
        "            rightSubtree = []\n",
        "            root = nums[0]\n",
        "            for i in nums[1:]:\n",
        "                if i < root:\n",
        "                    leftSubtree.append(i)\n",
        "                else:\n",
        "                    rightSubtree.append(i)\n",
        "            n1 = len(leftSubtree)\n",
        "            n2 = len(rightSubtree)\n",
        "            return comb(len(leftSubtree) + len(rightSubtree), len(leftSubtree)) * ways(leftSubtree) * ways(rightSubtree)\n",
        "        return (ways(nums) - 1) % (10**9 + 7)"
      ],
      "execution_count": null,
      "outputs": []
    }
  ]
}