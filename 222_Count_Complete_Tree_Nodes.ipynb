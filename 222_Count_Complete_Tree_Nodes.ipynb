{
  "nbformat": 4,
  "nbformat_minor": 0,
  "metadata": {
    "colab": {
      "name": "222. Count Complete Tree Nodes.ipynb",
      "provenance": []
    },
    "kernelspec": {
      "name": "python3",
      "display_name": "Python 3"
    },
    "language_info": {
      "name": "python"
    }
  },
  "cells": [
    {
      "cell_type": "markdown",
      "metadata": {
        "id": "gJ-mpCkCNiWc"
      },
      "source": [
        "**Problem Statement :**\n",
        "\n",
        "Given the root of a complete binary tree, return the number of the nodes in the tree.\n",
        "\n",
        "According to Wikipedia, every level, except possibly the last, is completely filled in a complete binary tree, and all nodes in the last level are as far left as possible. It can have between 1 and 2h nodes inclusive at the last level h.\n",
        "\n",
        "Design an algorithm that runs in less than O(n) time complexity."
      ]
    },
    {
      "cell_type": "markdown",
      "metadata": {
        "id": "JP2aIqVhNzaO"
      },
      "source": [
        "**Approach 1 : Naive Approach/ Recursive Implementation**"
      ]
    },
    {
      "cell_type": "code",
      "metadata": {
        "id": "SyhT6njAN5wg"
      },
      "source": [
        "# Definition for a binary tree node.\n",
        "# class TreeNode:\n",
        "#     def __init__(self, val=0, left=None, right=None):\n",
        "#         self.val = val\n",
        "#         self.left = left\n",
        "#         self.right = right\n",
        "class Solution:\n",
        "    def countNodes(self, root: TreeNode) -> int:\n",
        "        if root:\n",
        "            return 1 + self.countNodes(root.left) + self.countNodes(root.right)\n",
        "        else:\n",
        "            return 0"
      ],
      "execution_count": null,
      "outputs": []
    },
    {
      "cell_type": "markdown",
      "metadata": {
        "id": "ZGgp-y9jORoY"
      },
      "source": [
        "**Time Complexity : O(N)**\n",
        "\n",
        "**Space Complexity : Stack Space - O(d) - O(log N)**"
      ]
    },
    {
      "cell_type": "markdown",
      "metadata": {
        "id": "8sX-9kxjNppi"
      },
      "source": [
        "**Approach 2 : Binary Search Implementation**"
      ]
    },
    {
      "cell_type": "code",
      "metadata": {
        "id": "hf2rZ_XvNaT2"
      },
      "source": [
        "# Definition for a binary tree node.\n",
        "# class TreeNode:\n",
        "#     def __init__(self, val=0, left=None, right=None):\n",
        "#         self.val = val\n",
        "#         self.left = left\n",
        "#         self.right = right\n",
        "# Binary Search Implementation : \n",
        "# Time Complexity : O(d^2) => O(log^2 N)\n",
        "# Space Complexity : O(1)\n",
        "class Solution:\n",
        "    def compute_depth(self, node: TreeNode) -> int:\n",
        "        depth = 0\n",
        "        while node.left:\n",
        "            node = node.left\n",
        "            depth += 1\n",
        "        return depth\n",
        "    \n",
        "    def exists(self, index:int, depth:int, node:TreeNode) -> bool:\n",
        "        left, right = 0, 2 ** depth - 1\n",
        "        for i in range(depth):\n",
        "            mid = left + (right - left)//2\n",
        "            if index <= mid:\n",
        "                node = node.left\n",
        "                right = mid\n",
        "            else:\n",
        "                node = node.right\n",
        "                left = mid + 1\n",
        "        return node is not None\n",
        "    \n",
        "    def countNodes(self, root: TreeNode) -> int:\n",
        "        if not root:\n",
        "            return 0\n",
        "        depth = self.compute_depth(root)\n",
        "        ## If the tree contains only one node\n",
        "        if depth == 0:\n",
        "            return 1\n",
        "        \n",
        "        ## Computation of number of nodes at the last level\n",
        "        ## Last level nodes are enumerated from 0 to 2**d - 1\n",
        "        ## Perform the Binary Search Operation to check the number of nodes\n",
        "        left, right = 1, 2 ** depth - 1\n",
        "        while left <= right:\n",
        "            mid = left + (right - left) // 2\n",
        "            if self.exists(mid, depth, root):\n",
        "                left = mid + 1\n",
        "            else:\n",
        "                right = mid - 1\n",
        "        ## Number of nodes above last level + Left nodes at the last level         \n",
        "        return (2 ** depth - 1) + left"
      ],
      "execution_count": null,
      "outputs": []
    },
    {
      "cell_type": "markdown",
      "metadata": {
        "id": "xxRwhkU7OpGb"
      },
      "source": [
        "**Time Complexity : O(d ^ 2) = O(log^2 N)**\n",
        "\n",
        "**Space Complexity : O(1)**"
      ]
    }
  ]
}