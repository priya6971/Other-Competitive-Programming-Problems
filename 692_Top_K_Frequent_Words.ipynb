{
  "nbformat": 4,
  "nbformat_minor": 0,
  "metadata": {
    "colab": {
      "name": "692. Top K Frequent Words.ipynb",
      "provenance": []
    },
    "kernelspec": {
      "name": "python3",
      "display_name": "Python 3"
    },
    "language_info": {
      "name": "python"
    }
  },
  "cells": [
    {
      "cell_type": "markdown",
      "metadata": {
        "id": "hvny58X8bR03"
      },
      "source": [
        "Problem Statement :\n",
        "\n",
        "Given a non-empty list of words, return the k most frequent elements.\n",
        "\n",
        "Your answer should be sorted by frequency from highest to lowest. If two words have the same frequency, then the word with the lower alphabetical order comes first.\n",
        "\n",
        "Example 1:\n",
        "Input: [\"i\", \"love\", \"leetcode\", \"i\", \"love\", \"coding\"], k = 2\n",
        "\n",
        "Output: [\"i\", \"love\"]\n",
        "\n",
        "Explanation: \"i\" and \"love\" are the two most frequent words.\n",
        "\n",
        "Note that \"i\" comes before \"love\" due to a lower alphabetical order."
      ]
    },
    {
      "cell_type": "code",
      "metadata": {
        "id": "V7I0eujZbPiy"
      },
      "source": [
        "class Solution:\n",
        "    def topKFrequent(self, words: List[str], k: int) -> List[str]:\n",
        "        ## Error Case\n",
        "        if words is None or k <= 0:\n",
        "            return []\n",
        "        \n",
        "        dictionary = {}\n",
        "        \n",
        "        ## Created Dictionary having words as key and count as value\n",
        "        for word in words:\n",
        "            if word not in dictionary:\n",
        "                dictionary[word] = 1\n",
        "            else:\n",
        "                dictionary[word] += 1\n",
        "        \n",
        "        ## Creation of Maxheap\n",
        "        heap = []\n",
        "        heapq.heapify(heap)\n",
        "        \n",
        "        for key, value in dictionary.items():\n",
        "            ## Creating maxheap\n",
        "            heapq.heappush(heap, (-value, key))\n",
        "            \n",
        "            \n",
        "        result = []\n",
        "        ## To return k most frequent elements\n",
        "        for i in range(k):\n",
        "            popped = heapq.heappop(heap)\n",
        "            ## Word to be inside result not the frequency\n",
        "            result.append(popped[1])\n",
        "        return result"
      ],
      "execution_count": null,
      "outputs": []
    }
  ]
}