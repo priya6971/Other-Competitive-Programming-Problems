{
  "nbformat": 4,
  "nbformat_minor": 0,
  "metadata": {
    "colab": {
      "name": "Minimum number of platforms.ipynb",
      "provenance": []
    },
    "kernelspec": {
      "name": "python3",
      "display_name": "Python 3"
    },
    "language_info": {
      "name": "python"
    }
  },
  "cells": [
    {
      "cell_type": "markdown",
      "metadata": {
        "id": "eUulVgM0ULf-"
      },
      "source": [
        "**Problem Statement :**\n",
        "\n",
        "Given the arrival and departure times of all trains that reach a railway station, the task is to find the minimum number of platforms required for the railway station so that no train waits. \n",
        "We are given two arrays that represent the arrival and departure times of trains that stop."
      ]
    },
    {
      "cell_type": "code",
      "metadata": {
        "colab": {
          "base_uri": "https://localhost:8080/"
        },
        "id": "xuxt8GTdSreW",
        "outputId": "b2803e1a-3dd2-4be1-86b7-09f991957a4f"
      },
      "source": [
        "def findNumberOfPlatforms(arr, dep, n):\n",
        "  arr.sort()    // O(n logn)\n",
        "  dep.sort()    // O(n logn)\n",
        "\n",
        "  plat_required = 1\n",
        "  result = 1\n",
        "  i = 1\n",
        "  j = 0\n",
        "\n",
        "  // O(n)\n",
        "  while i < n and j < n:\n",
        "    if arr[i] <= dep[j]:\n",
        "      plat_required += 1\n",
        "      i += 1\n",
        "    elif arr[i] > dep[j]:\n",
        "      plat_required -= 1\n",
        "      j += 1\n",
        "      \n",
        "    if plat_required > result:\n",
        "      result = plat_required\n",
        "  return result\n",
        "\n",
        "arr = [900, 940, 950, 1100, 1500, 1800]\n",
        "dep = [910, 1200, 1120, 1130, 1900, 2000]\n",
        "\n",
        "n = len(arr)\n",
        "result = findNumberOfPlatforms(arr, dep, n)\n",
        "print(\"Minimum number of platforms required\", result)"
      ],
      "execution_count": 1,
      "outputs": [
        {
          "output_type": "stream",
          "text": [
            "Minimum number of platforms required 3\n"
          ],
          "name": "stdout"
        }
      ]
    },
    {
      "cell_type": "markdown",
      "metadata": {
        "id": "lkds6tc-UAOh"
      },
      "source": [
        "Time Complexity : O(n) + O(n logn) + O(n logn) = O(n logn)\n",
        "\n",
        "Space Complexity : O(1)"
      ]
    }
  ]
}