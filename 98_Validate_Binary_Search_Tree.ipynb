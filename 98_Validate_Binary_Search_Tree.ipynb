{
  "nbformat": 4,
  "nbformat_minor": 0,
  "metadata": {
    "colab": {
      "name": "98. Validate Binary Search Tree.ipynb",
      "provenance": []
    },
    "kernelspec": {
      "name": "python3",
      "display_name": "Python 3"
    },
    "language_info": {
      "name": "python"
    }
  },
  "cells": [
    {
      "cell_type": "markdown",
      "metadata": {
        "id": "0i0-NA3-iI8F"
      },
      "source": [
        "Problem Statement :\n",
        "\n",
        "Given the root of a binary tree, determine if it is a valid binary search tree (BST).\n",
        "\n",
        "A valid BST is defined as follows:\n",
        "\n",
        "The left subtree of a node contains only nodes with keys less than the node's key.\n",
        "The right subtree of a node contains only nodes with keys greater than the node's key.\n",
        "Both the left and right subtrees must also be binary search trees.\n",
        " "
      ]
    },
    {
      "cell_type": "code",
      "metadata": {
        "id": "U2UuidEmh25r"
      },
      "source": [
        "# Definition for a binary tree node.\n",
        "# class TreeNode:\n",
        "#     def __init__(self, val=0, left=None, right=None):\n",
        "#         self.val = val\n",
        "#         self.left = left\n",
        "#         self.right = right\n",
        "class Solution:\n",
        "    def inorderTraversal(self, node):\n",
        "        if node.left:\n",
        "            self.inorderTraversal(node.left)\n",
        "        \n",
        "        self.res.append(node.val)\n",
        "        \n",
        "        if node.right:\n",
        "            self.inorderTraversal(node.right)\n",
        "            \n",
        "        \n",
        "    def isValidBST(self, root: TreeNode) -> bool:\n",
        "        if root is None:\n",
        "            return True\n",
        "        \n",
        "        self.res = []\n",
        "        self.inorderTraversal(root)\n",
        "        \n",
        "        n = len(self.res)\n",
        "        for i in range(n-1):\n",
        "            if self.res[i] >= self.res[i+1]:\n",
        "                return False \n",
        "                \n",
        "        return True"
      ],
      "execution_count": null,
      "outputs": []
    },
    {
      "cell_type": "markdown",
      "metadata": {
        "id": "_CvFD2DaiakI"
      },
      "source": [
        "Time Complexity : O(n)\n",
        "\n",
        "Space Complexity : O(n)"
      ]
    }
  ]
}