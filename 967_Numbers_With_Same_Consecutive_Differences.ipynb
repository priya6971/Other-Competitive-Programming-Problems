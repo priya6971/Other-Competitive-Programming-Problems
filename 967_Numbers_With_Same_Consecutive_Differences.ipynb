{
  "nbformat": 4,
  "nbformat_minor": 0,
  "metadata": {
    "colab": {
      "name": "967. Numbers With Same Consecutive Differences.ipynb",
      "provenance": []
    },
    "kernelspec": {
      "name": "python3",
      "display_name": "Python 3"
    },
    "language_info": {
      "name": "python"
    }
  },
  "cells": [
    {
      "cell_type": "markdown",
      "metadata": {
        "id": "17Crfe_0RX5c"
      },
      "source": [
        "**Problem Statement :**\n",
        "\n",
        "Return all non-negative integers of length n such that the absolute difference between every two consecutive digits is k.\n",
        "\n",
        "Note that every number in the answer must not have leading zeros. For example, 01 has one leading zero and is invalid.\n",
        "\n",
        "You may return the answer in any order.\n",
        "\n",
        "Example 1:\n",
        "\n",
        "Input: n = 3, k = 7\n",
        "\n",
        "Output: [181,292,707,818,929]\n",
        "\n",
        "Explanation: Note that 070 is not a valid number, because it has leading zeroes.\n",
        "\n",
        "Example 2:\n",
        "\n",
        "Input: n = 2, k = 1\n",
        "\n",
        "Output: [10,12,21,23,32,34,43,45,54,56,65,67,76,78,87,89,98]"
      ]
    },
    {
      "cell_type": "code",
      "metadata": {
        "id": "kgIeP1-cPG2I"
      },
      "source": [
        "class Solution:\n",
        "    def numsSameConsecDiff(self, n: int, k: int) -> List[int]:\n",
        "        ## If n is 1, then regardless of value of k, \n",
        "        ## all digits are valid including 0\n",
        "        if n == 1:\n",
        "            return [i for i in range(10)]\n",
        "        \n",
        "        res = []\n",
        "        def Depth_First_Search(n, num):\n",
        "            ## Base Case Condition\n",
        "            if n == 0:\n",
        "                return res.append(num)\n",
        "            \n",
        "            tail_digit = num % 10\n",
        "            next_digits = set([tail_digit + k, tail_digit - k])\n",
        "            \n",
        "            for next_digit in next_digits:\n",
        "                if 0 <= next_digit < 10:\n",
        "                    new_num = num * 10 + next_digit\n",
        "                    Depth_First_Search(n-1, new_num)\n",
        "        \n",
        "        \n",
        "        for num in range(1, 10):\n",
        "            Depth_First_Search(n-1, num)\n",
        "            \n",
        "        return list(res)"
      ],
      "execution_count": null,
      "outputs": []
    },
    {
      "cell_type": "markdown",
      "metadata": {
        "id": "y9DRsft5Rx4v"
      },
      "source": [
        "**Time Complexity : O(2 ^ N)**\n",
        "\n",
        "**Space Complexity : O(2 ^ N)**"
      ]
    }
  ]
}