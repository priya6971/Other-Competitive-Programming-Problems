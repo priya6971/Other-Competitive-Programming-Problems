{
  "nbformat": 4,
  "nbformat_minor": 0,
  "metadata": {
    "colab": {
      "name": "Leetcode-Problem:Floyd's Cycle Finding Algorithm.ipynb",
      "provenance": []
    },
    "kernelspec": {
      "name": "python3",
      "display_name": "Python 3"
    },
    "language_info": {
      "name": "python"
    }
  },
  "cells": [
    {
      "cell_type": "markdown",
      "metadata": {
        "id": "NqB-H1rhJ7Sv"
      },
      "source": [
        "Given head, the head of a linked list, determine if the linked list has a cycle in it.\n",
        "\n",
        "There is a cycle in a linked list if there is some node in the list that can be reached again by continuously following the next pointer. Internally, pos is used to denote the index of the node that tail's next pointer is connected to. Note that pos is not passed as a parameter."
      ]
    },
    {
      "cell_type": "markdown",
      "metadata": {
        "id": "53iPexZJKoBl"
      },
      "source": [
        "[Problem URL](https://https://leetcode.com/problems/linked-list-cycle/)"
      ]
    },
    {
      "cell_type": "code",
      "metadata": {
        "id": "FcIRt3cBKFrE"
      },
      "source": [
        "# Definition for singly-linked list.\n",
        "# class ListNode:\n",
        "#     def __init__(self, x):\n",
        "#         self.val = x\n",
        "#         self.next = None\n",
        "\n",
        "class Solution:\n",
        "    def hasCycle(self, head: ListNode) -> bool:\n",
        "        if head is None:\n",
        "            return False\n",
        "        hare = head\n",
        "        tortoise = head\n",
        "        while (tortoise and hare and hare.next):\n",
        "            tortoise = tortoise.next\n",
        "            hare = hare.next.next\n",
        "            if tortoise == hare:\n",
        "                return True\n",
        "        return False"
      ],
      "execution_count": null,
      "outputs": []
    }
  ]
}