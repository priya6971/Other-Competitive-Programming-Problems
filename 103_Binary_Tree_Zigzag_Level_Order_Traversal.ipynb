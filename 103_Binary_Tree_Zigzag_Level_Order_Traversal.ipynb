{
  "nbformat": 4,
  "nbformat_minor": 0,
  "metadata": {
    "colab": {
      "name": "103. Binary Tree Zigzag Level Order Traversal.ipynb",
      "provenance": []
    },
    "kernelspec": {
      "name": "python3",
      "display_name": "Python 3"
    },
    "language_info": {
      "name": "python"
    }
  },
  "cells": [
    {
      "cell_type": "markdown",
      "metadata": {
        "id": "v53WamWd0WlS"
      },
      "source": [
        "Problem Statement :\n",
        "\n",
        "Given the root of a binary tree, return the zigzag level order traversal of its nodes values. (i.e. from left to right, then right to left for the next level and alternate between)."
      ]
    },
    {
      "cell_type": "code",
      "metadata": {
        "id": "J-RtW_0d0OvK"
      },
      "source": [
        "# Definition for a binary tree node.\n",
        "# class TreeNode:\n",
        "#     def __init__(self, val=0, left=None, right=None):\n",
        "#         self.val = val\n",
        "#         self.left = left\n",
        "#         self.right = right\n",
        "from collections import deque\n",
        "\n",
        "class Solution:\n",
        "    def zigzagLevelOrder(self, root: TreeNode) -> List[List[int]]:\n",
        "        if root is None:\n",
        "            return []\n",
        "        \n",
        "        result = []\n",
        "        def depth_first_search(node, level):\n",
        "            if level + 1 > len(result):\n",
        "                result.append(deque([node.val]))\n",
        "            else:\n",
        "                if level % 2 == 0:\n",
        "                    result[level].append(node.val)\n",
        "                else:\n",
        "                    result[level].appendleft(node.val)\n",
        "                    \n",
        "            for next_node in [node.left, node.right]:\n",
        "                if next_node is not None:\n",
        "                    depth_first_search(next_node, level + 1)\n",
        "                    \n",
        "        depth_first_search(root,0)\n",
        "        \n",
        "        return result"
      ],
      "execution_count": null,
      "outputs": []
    }
  ]
}