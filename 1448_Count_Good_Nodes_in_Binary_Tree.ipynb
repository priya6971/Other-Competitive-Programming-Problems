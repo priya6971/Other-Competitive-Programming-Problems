{
  "nbformat": 4,
  "nbformat_minor": 0,
  "metadata": {
    "colab": {
      "name": "1448. Count Good Nodes in Binary Tree.ipynb",
      "provenance": []
    },
    "kernelspec": {
      "name": "python3",
      "display_name": "Python 3"
    },
    "language_info": {
      "name": "python"
    }
  },
  "cells": [
    {
      "cell_type": "markdown",
      "metadata": {
        "id": "EUhjykmUBqwX"
      },
      "source": [
        "**Problem Statement :**\n",
        "\n",
        "Given a binary tree root, a node X in the tree is named good if in the path from root to X there are no nodes with a value greater than X.\n",
        "\n",
        "Return the number of good nodes in the binary tree."
      ]
    },
    {
      "cell_type": "code",
      "metadata": {
        "id": "g1_-e5u2BjS9"
      },
      "source": [
        "# Definition for a binary tree node.\n",
        "# class TreeNode:\n",
        "#     def __init__(self, val=0, left=None, right=None):\n",
        "#         self.val = val\n",
        "#         self.left = left\n",
        "#         self.right = right\n",
        "class Solution:\n",
        "    def goodNodes(self, root: TreeNode) -> int:\n",
        "        self.count = 0\n",
        "        def depth_first_search(node, maxVal):\n",
        "            if not node:\n",
        "                return \n",
        "            if node.val >= maxVal:\n",
        "                self.count = self.count + 1\n",
        "            \n",
        "            maxVal = max(maxVal, node.val)\n",
        "            depth_first_search(node.left, maxVal)\n",
        "            depth_first_search(node.right, maxVal)\n",
        "        \n",
        "        depth_first_search(root, root.val)\n",
        "        return self.count"
      ],
      "execution_count": null,
      "outputs": []
    }
  ]
}